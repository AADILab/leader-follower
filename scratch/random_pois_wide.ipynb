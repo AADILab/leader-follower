{
 "cells": [
  {
   "cell_type": "code",
   "execution_count": 2,
   "metadata": {},
   "outputs": [],
   "source": [
    "import numpy as np\n",
    "import matplotlib.pyplot as plt"
   ]
  },
  {
   "cell_type": "code",
   "execution_count": 7,
   "metadata": {},
   "outputs": [
    {
     "data": {
      "image/png": "[encoded data removed]",
      "text/plain": [
       "<Figure size 640x480 with 1 Axes>"
      ]
     },
     "metadata": {},
     "output_type": "display_data"
    }
   ],
   "source": [
    "# Set up POIs\n",
    "\n",
    "num_pois = 15\n",
    "\n",
    "x_bound = (num_pois+1)*10\n",
    "map_bounds = [x_bound, 100]\n",
    "\n",
    "lowest_poi_y = 25\n",
    "\n",
    "pois_x = np.random.uniform(low=5.0, high=map_bounds[0]-5, size=(num_pois,1))\n",
    "pois_y = np.random.uniform(low=lowest_poi_y, high=map_bounds[1]-5, size=(num_pois,1))\n",
    "pois = np.hstack((pois_x, pois_y))\n",
    "\n",
    "x_space = 10\n",
    "y_space = 10\n",
    "ly = 10\n",
    "lf_x = (np.arange(0,map_bounds[0],x_space)+x_space)[:num_pois]\n",
    "l_y = np.ones((len(lf_x)))*ly\n",
    "f_y = l_y+y_space\n",
    "\n",
    "# Set up the plot\n",
    "fig, ax = plt.subplots(nrows=1, ncols=1)\n",
    "# Plot the POIs\n",
    "ax.plot(pois[:,0], pois[:,1], '.', color=\"tab:green\")\n",
    "# Plot the leaders and followers\n",
    "ax.plot(lf_x, l_y, '^', color=\"tab:orange\")\n",
    "ax.plot(lf_x, f_y, '^', color=\"tab:blue\")\n",
    "\n",
    "\n",
    "ax.set_xlim([0, map_bounds[0]])\n",
    "ax.set_ylim([0, map_bounds[1]])\n",
    "ax.set_aspect('equal', adjustable=\"box\")\n",
    "plt.show()"
   ]
  },
  {
   "cell_type": "code",
   "execution_count": 8,
   "metadata": {},
   "outputs": [
    {
     "name": "stdout",
     "output_type": "stream",
     "text": [
      "Map Bounds\n",
      "[160, 100]\n",
      "POI Locations\n",
      "- [ 7.787821373546251 ,89.70751882607469 ]\n",
      "- [ 144.9600581983252 ,56.70958716547774 ]\n",
      "- [ 126.83940620196418 ,37.883394211334455 ]\n",
      "- [ 152.6285676806038 ,45.02475343727828 ]\n",
      "- [ 45.62959448021109 ,28.827555540264747 ]\n",
      "- [ 152.14938120534626 ,71.8649619862546 ]\n",
      "- [ 83.70467464878887 ,89.55822752276188 ]\n",
      "- [ 121.6697569123003 ,40.5414183660104 ]\n",
      "- [ 70.39490334042657 ,92.41052082551123 ]\n",
      "- [ 115.25785863343904 ,86.11139053594826 ]\n",
      "- [ 62.645882669272616 ,45.464425199954086 ]\n",
      "- [ 59.087210276683635 ,38.67227196687777 ]\n",
      "- [ 6.09337622397444 ,40.84143327341857 ]\n",
      "- [ 67.93106612591075 ,73.57675436123583 ]\n",
      "- [ 41.70363990561424 ,49.11335451431558 ]\n",
      "Leader Locations\n",
      "- [ 10, 10.0 ]\n",
      "- [ 20, 10.0 ]\n",
      "- [ 30, 10.0 ]\n",
      "- [ 40, 10.0 ]\n",
      "- [ 50, 10.0 ]\n",
      "- [ 60, 10.0 ]\n",
      "- [ 70, 10.0 ]\n",
      "- [ 80, 10.0 ]\n",
      "- [ 90, 10.0 ]\n",
      "- [ 100, 10.0 ]\n",
      "- [ 110, 10.0 ]\n",
      "- [ 120, 10.0 ]\n",
      "- [ 130, 10.0 ]\n",
      "- [ 140, 10.0 ]\n",
      "- [ 150, 10.0 ]\n",
      "Follower Locations\n",
      "- [ 10, 20.0 ]\n",
      "- [ 20, 20.0 ]\n",
      "- [ 30, 20.0 ]\n",
      "- [ 40, 20.0 ]\n",
      "- [ 50, 20.0 ]\n",
      "- [ 60, 20.0 ]\n",
      "- [ 70, 20.0 ]\n",
      "- [ 80, 20.0 ]\n",
      "- [ 90, 20.0 ]\n",
      "- [ 100, 20.0 ]\n",
      "- [ 110, 20.0 ]\n",
      "- [ 120, 20.0 ]\n",
      "- [ 130, 20.0 ]\n",
      "- [ 140, 20.0 ]\n",
      "- [ 150, 20.0 ]\n"
     ]
    }
   ],
   "source": [
    "# Map size\n",
    "print(\"Map Bounds\")\n",
    "print(map_bounds)\n",
    "# Print out poi locations\n",
    "print(\"POI Locations\")\n",
    "for poi in pois:\n",
    "    print(f\"- [ {poi[0]} ,{poi[1]} ]\")\n",
    "# Print out leader locations\n",
    "print(\"Leader Locations\")\n",
    "for x,y in zip(lf_x, l_y):\n",
    "    print(f\"- [ {x}, {y} ]\")\n",
    "# Print out follower locations\n",
    "print(\"Follower Locations\")\n",
    "for x,y in zip(lf_x, f_y):\n",
    "    print(f\"- [ {x}, {y} ]\")"
   ]
  },
  {
   "cell_type": "code",
   "execution_count": null,
   "metadata": {},
   "outputs": [],
   "source": []
  }
 ],
 "metadata": {
  "kernelspec": {
   "display_name": "leaders",
   "language": "python",
   "name": "python3"
  },
  "language_info": {
   "codemirror_mode": {
    "name": "ipython",
    "version": 3
   },
   "file_extension": ".py",
   "mimetype": "text/x-python",
   "name": "python",
   "nbconvert_exporter": "python",
   "pygments_lexer": "ipython3",
   "version": "3.10.12"
  },
  "orig_nbformat": 4
 },
 "nbformat": 4,
 "nbformat_minor": 2
}
