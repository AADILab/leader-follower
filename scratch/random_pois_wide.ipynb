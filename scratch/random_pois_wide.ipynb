{
 "cells": [
  {
   "cell_type": "code",
   "execution_count": 1,
   "metadata": {},
   "outputs": [],
   "source": [
    "import numpy as np\n",
    "import matplotlib.pyplot as plt"
   ]
  },
  {
   "cell_type": "code",
   "execution_count": 2,
   "metadata": {},
   "outputs": [
    {
     "data": {
      "image/png": "[encoded data removed]",
      "text/plain": [
       "<Figure size 640x480 with 1 Axes>"
      ]
     },
     "metadata": {},
     "output_type": "display_data"
    }
   ],
   "source": [
    "# Set up POIs\n",
    "\n",
    "num_pois = 10\n",
    "\n",
    "x_bound = (num_pois+1)*10\n",
    "map_bounds = [x_bound, 100]\n",
    "\n",
    "lowest_poi_y = 30\n",
    "\n",
    "pois_x = np.random.uniform(low=5.0, high=map_bounds[0]-5, size=(num_pois,1))\n",
    "pois_y = np.random.uniform(low=lowest_poi_y, high=map_bounds[1]-5, size=(num_pois,1))\n",
    "pois = np.hstack((pois_x, pois_y))\n",
    "\n",
    "x_space = 10\n",
    "y_space = 10\n",
    "ly = 10\n",
    "lf_x = (np.arange(0,map_bounds[0],x_space)+x_space)[:num_pois]\n",
    "l_y = np.ones((len(lf_x)))*ly\n",
    "f_y = l_y+y_space\n",
    "\n",
    "# Set up the plot\n",
    "fig, ax = plt.subplots(nrows=1, ncols=1)\n",
    "# Plot the POIs\n",
    "ax.plot(pois[:,0], pois[:,1], '.', color=\"tab:green\")\n",
    "# Plot the leaders and followers\n",
    "ax.plot(lf_x, l_y, '^', color=\"tab:orange\")\n",
    "ax.plot(lf_x, f_y, '^', color=\"tab:blue\")\n",
    "\n",
    "\n",
    "ax.set_xlim([0, map_bounds[0]])\n",
    "ax.set_ylim([0, map_bounds[1]])\n",
    "ax.set_aspect('equal', adjustable=\"box\")\n",
    "plt.show()"
   ]
  },
  {
   "cell_type": "code",
   "execution_count": 3,
   "metadata": {},
   "outputs": [
    {
     "name": "stdout",
     "output_type": "stream",
     "text": [
      "Map Bounds\n",
      "[110, 100]\n",
      "POI Locations\n",
      "- [ 54.342081340132104 ,61.68916443272893 ]\n",
      "- [ 14.13327943328478 ,58.117178316537704 ]\n",
      "- [ 69.53752585995193 ,71.97185583313919 ]\n",
      "- [ 15.33328987378168 ,87.13361882192712 ]\n",
      "- [ 49.09319720176131 ,76.465315032587 ]\n",
      "- [ 26.965327859187777 ,87.5297956499684 ]\n",
      "- [ 23.08914495796693 ,56.07768737607833 ]\n",
      "- [ 81.84980800389613 ,76.69508120944833 ]\n",
      "- [ 75.17800131654226 ,48.11126476319977 ]\n",
      "- [ 55.82858930935278 ,49.084157039597194 ]\n",
      "Leader Locations\n",
      "- [ 10, 10.0 ]\n",
      "- [ 20, 10.0 ]\n",
      "- [ 30, 10.0 ]\n",
      "- [ 40, 10.0 ]\n",
      "- [ 50, 10.0 ]\n",
      "- [ 60, 10.0 ]\n",
      "- [ 70, 10.0 ]\n",
      "- [ 80, 10.0 ]\n",
      "- [ 90, 10.0 ]\n",
      "- [ 100, 10.0 ]\n",
      "Follower Locations\n",
      "- [ 10, 20.0 ]\n",
      "- [ 20, 20.0 ]\n",
      "- [ 30, 20.0 ]\n",
      "- [ 40, 20.0 ]\n",
      "- [ 50, 20.0 ]\n",
      "- [ 60, 20.0 ]\n",
      "- [ 70, 20.0 ]\n",
      "- [ 80, 20.0 ]\n",
      "- [ 90, 20.0 ]\n",
      "- [ 100, 20.0 ]\n"
     ]
    }
   ],
   "source": [
    "# Map size\n",
    "print(\"Map Bounds\")\n",
    "print(map_bounds)\n",
    "# Print out poi locations\n",
    "print(\"POI Locations\")\n",
    "for poi in pois:\n",
    "    print(f\"- [ {poi[0]} ,{poi[1]} ]\")\n",
    "# Print out leader locations\n",
    "print(\"Leader Locations\")\n",
    "for x,y in zip(lf_x, l_y):\n",
    "    print(f\"- [ {x}, {y} ]\")\n",
    "# Print out follower locations\n",
    "print(\"Follower Locations\")\n",
    "for x,y in zip(lf_x, f_y):\n",
    "    print(f\"- [ {x}, {y} ]\")"
   ]
  },
  {
   "cell_type": "code",
   "execution_count": null,
   "metadata": {},
   "outputs": [],
   "source": []
  }
 ],
 "metadata": {
  "kernelspec": {
   "display_name": "leaders",
   "language": "python",
   "name": "python3"
  },
  "language_info": {
   "codemirror_mode": {
    "name": "ipython",
    "version": 3
   },
   "file_extension": ".py",
   "mimetype": "text/x-python",
   "name": "python",
   "nbconvert_exporter": "python",
   "pygments_lexer": "ipython3",
   "version": "3.10.12"
  },
  "orig_nbformat": 4
 },
 "nbformat": 4,
 "nbformat_minor": 2
}
