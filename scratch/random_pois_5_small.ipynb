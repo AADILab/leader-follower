{
 "cells": [
  {
   "cell_type": "code",
   "execution_count": 2,
   "metadata": {},
   "outputs": [],
   "source": [
    "import numpy as np\n",
    "import matplotlib.pyplot as plt"
   ]
  },
  {
   "cell_type": "code",
   "execution_count": 17,
   "metadata": {},
   "outputs": [
    {
     "data": {
      "image/png": "[encoded data removed]",
      "text/plain": [
       "<Figure size 640x480 with 1 Axes>"
      ]
     },
     "metadata": {},
     "output_type": "display_data"
    }
   ],
   "source": [
    "# Set up POIs\n",
    "map_bounds = [100, 50]\n",
    "num_pois = 5\n",
    "lowest_poi_y = 20\n",
    "pois_x = np.random.uniform(low=5.0, high=map_bounds[0]-5, size=(num_pois,1))\n",
    "pois_y = np.random.uniform(low=lowest_poi_y, high=map_bounds[1]-5, size=(num_pois,1))\n",
    "pois = np.hstack((pois_x, pois_y))\n",
    "\n",
    "x_space = 20\n",
    "y_space = 2.5\n",
    "ly = 10\n",
    "lf_x = (np.arange(0,map_bounds[0],x_space)+10)[:num_pois]\n",
    "l_y = np.ones((len(lf_x)))*ly\n",
    "f_y = l_y-2.5\n",
    "\n",
    "# Set up the plot\n",
    "fig, ax = plt.subplots(nrows=1, ncols=1)\n",
    "# Plot the POIs\n",
    "ax.plot(pois[:,0], pois[:,1], '.', color=\"tab:green\")\n",
    "# Plot the leaders and followers\n",
    "ax.plot(lf_x, l_y, '^', color=\"tab:orange\")\n",
    "ax.plot(lf_x, f_y, '^', color=\"tab:blue\")\n",
    "\n",
    "\n",
    "ax.set_xlim([0, map_bounds[0]])\n",
    "ax.set_ylim([0, map_bounds[1]])\n",
    "ax.set_aspect('equal', adjustable=\"box\")\n",
    "plt.show()"
   ]
  },
  {
   "cell_type": "code",
   "execution_count": 18,
   "metadata": {},
   "outputs": [
    {
     "name": "stdout",
     "output_type": "stream",
     "text": [
      "- [ 22.072444038667935 ,37.54095809056431 ]\n",
      "- [ 84.3850135281382 ,22.030230491024454 ]\n",
      "- [ 9.767756406278028 ,38.49481385980307 ]\n",
      "- [ 57.39625150448024 ,32.80987817075419 ]\n",
      "- [ 51.030393454601885 ,23.229225628127914 ]\n"
     ]
    }
   ],
   "source": [
    "# Print out poi locations\n",
    "for poi in pois:\n",
    "    print(f\"- [ {poi[0]} ,{poi[1]} ]\")"
   ]
  },
  {
   "cell_type": "code",
   "execution_count": 14,
   "metadata": {},
   "outputs": [
    {
     "name": "stdout",
     "output_type": "stream",
     "text": [
      "- [ 10, 10.0 ]\n",
      "- [ 30, 10.0 ]\n",
      "- [ 50, 10.0 ]\n",
      "- [ 70, 10.0 ]\n",
      "- [ 90, 10.0 ]\n"
     ]
    }
   ],
   "source": [
    "# Print out leader locations\n",
    "for x,y in zip(lf_x, l_y):\n",
    "    print(f\"- [ {x}, {y} ]\")"
   ]
  },
  {
   "cell_type": "code",
   "execution_count": 15,
   "metadata": {},
   "outputs": [
    {
     "name": "stdout",
     "output_type": "stream",
     "text": [
      "- [ 10, 7.5 ]\n",
      "- [ 30, 7.5 ]\n",
      "- [ 50, 7.5 ]\n",
      "- [ 70, 7.5 ]\n",
      "- [ 90, 7.5 ]\n"
     ]
    }
   ],
   "source": [
    "# Print out follower locations\n",
    "for x,y in zip(lf_x, f_y):\n",
    "    print(f\"- [ {x}, {y} ]\")"
   ]
  },
  {
   "cell_type": "code",
   "execution_count": null,
   "metadata": {},
   "outputs": [],
   "source": []
  }
 ],
 "metadata": {
  "kernelspec": {
   "display_name": "leaders",
   "language": "python",
   "name": "python3"
  },
  "language_info": {
   "codemirror_mode": {
    "name": "ipython",
    "version": 3
   },
   "file_extension": ".py",
   "mimetype": "text/x-python",
   "name": "python",
   "nbconvert_exporter": "python",
   "pygments_lexer": "ipython3",
   "version": "3.10.12"
  },
  "orig_nbformat": 4
 },
 "nbformat": 4,
 "nbformat_minor": 2
}
