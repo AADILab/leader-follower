{
 "cells": [
  {
   "cell_type": "code",
   "execution_count": 1,
   "metadata": {},
   "outputs": [],
   "source": [
    "import numpy as np\n",
    "import matplotlib.pyplot as plt"
   ]
  },
  {
   "cell_type": "code",
   "execution_count": 4,
   "metadata": {},
   "outputs": [
    {
     "data": {
      "image/png": "[encoded data removed]",
      "text/plain": [
       "<Figure size 640x480 with 1 Axes>"
      ]
     },
     "metadata": {},
     "output_type": "display_data"
    }
   ],
   "source": [
    "# Set up POIs\n",
    "map_bounds = [200, 30]\n",
    "num_pois = 5\n",
    "lowest_poi_y = 25\n",
    "\n",
    "x_space = 30\n",
    "y_space = 2.5\n",
    "\n",
    "pois_x = (np.arange(0,map_bounds[0],x_space)+x_space)[:num_pois]\n",
    "pois_y = np.ones((len(pois_x)))*lowest_poi_y\n",
    "# pois = np.hstack((pois_x, pois_y))\n",
    "\n",
    "ly = 10\n",
    "lf_x = (np.arange(0,map_bounds[0],x_space)+x_space)[:num_pois]\n",
    "l_y = np.ones((len(lf_x)))*ly\n",
    "f_y = l_y-2.5\n",
    "\n",
    "# Set up the plot\n",
    "fig, ax = plt.subplots(nrows=1, ncols=1)\n",
    "# Plot the POIs\n",
    "ax.plot(pois_x,pois_y, '.', color=\"tab:green\")\n",
    "# Plot the leaders and followers\n",
    "ax.plot(lf_x, l_y, '^', color=\"tab:orange\")\n",
    "ax.plot(lf_x, f_y, '^', color=\"tab:blue\")\n",
    "\n",
    "\n",
    "ax.set_xlim([0, map_bounds[0]])\n",
    "ax.set_ylim([0, map_bounds[1]])\n",
    "ax.set_aspect('equal', adjustable=\"box\")\n",
    "plt.show()"
   ]
  },
  {
   "cell_type": "code",
   "execution_count": 5,
   "metadata": {},
   "outputs": [
    {
     "name": "stdout",
     "output_type": "stream",
     "text": [
      "- [ 30, 25.0 ]\n",
      "- [ 60, 25.0 ]\n",
      "- [ 90, 25.0 ]\n",
      "- [ 120, 25.0 ]\n",
      "- [ 150, 25.0 ]\n"
     ]
    }
   ],
   "source": [
    "# Print out poi locations\n",
    "for x,y in zip(pois_x, pois_y):\n",
    "    print(f\"- [ {x}, {y} ]\")"
   ]
  },
  {
   "cell_type": "code",
   "execution_count": 6,
   "metadata": {},
   "outputs": [
    {
     "name": "stdout",
     "output_type": "stream",
     "text": [
      "- [ 30, 10.0 ]\n",
      "- [ 60, 10.0 ]\n",
      "- [ 90, 10.0 ]\n",
      "- [ 120, 10.0 ]\n",
      "- [ 150, 10.0 ]\n"
     ]
    }
   ],
   "source": [
    "# Print out leader locations\n",
    "for x,y in zip(lf_x, l_y):\n",
    "    print(f\"- [ {x}, {y} ]\")"
   ]
  },
  {
   "cell_type": "code",
   "execution_count": 7,
   "metadata": {},
   "outputs": [
    {
     "name": "stdout",
     "output_type": "stream",
     "text": [
      "- [ 30, 7.5 ]\n",
      "- [ 60, 7.5 ]\n",
      "- [ 90, 7.5 ]\n",
      "- [ 120, 7.5 ]\n",
      "- [ 150, 7.5 ]\n"
     ]
    }
   ],
   "source": [
    "# Print out follower locations\n",
    "for x,y in zip(lf_x, f_y):\n",
    "    print(f\"- [ {x}, {y} ]\")"
   ]
  },
  {
   "cell_type": "code",
   "execution_count": null,
   "metadata": {},
   "outputs": [],
   "source": []
  }
 ],
 "metadata": {
  "kernelspec": {
   "display_name": "leaders",
   "language": "python",
   "name": "python3"
  },
  "language_info": {
   "codemirror_mode": {
    "name": "ipython",
    "version": 3
   },
   "file_extension": ".py",
   "mimetype": "text/x-python",
   "name": "python",
   "nbconvert_exporter": "python",
   "pygments_lexer": "ipython3",
   "version": "3.10.12"
  },
  "orig_nbformat": 4
 },
 "nbformat": 4,
 "nbformat_minor": 2
}
