{
 "cells": [
  {
   "cell_type": "code",
   "execution_count": 1,
   "metadata": {},
   "outputs": [],
   "source": [
    "import numpy as np\n",
    "import matplotlib.pyplot as plt"
   ]
  },
  {
   "cell_type": "code",
   "execution_count": 8,
   "metadata": {},
   "outputs": [
    {
     "data": {
      "image/png": "[encoded data removed]",
      "text/plain": [
       "<Figure size 640x480 with 1 Axes>"
      ]
     },
     "metadata": {},
     "output_type": "display_data"
    }
   ],
   "source": [
    "# Set up POIs\n",
    "map_bounds = [800, 100]\n",
    "num_pois = 25\n",
    "lowest_poi_y = 25\n",
    "pois_x = np.random.uniform(low=5.0, high=map_bounds[0]-5, size=(25,1))\n",
    "pois_y = np.random.uniform(low=lowest_poi_y, high=map_bounds[1]-5, size=(25,1))\n",
    "pois = np.hstack((pois_x, pois_y))\n",
    "\n",
    "x_space = 30\n",
    "y_space = 2.5\n",
    "ly = 10\n",
    "lf_x = (np.arange(0,map_bounds[0],x_space)+x_space)[:num_pois]\n",
    "l_y = np.ones((len(lf_x)))*ly\n",
    "f_y = l_y-2.5\n",
    "\n",
    "# Set up the plot\n",
    "fig, ax = plt.subplots(nrows=1, ncols=1)\n",
    "# Plot the POIs\n",
    "ax.plot(pois[:,0], pois[:,1], '.', color=\"tab:green\")\n",
    "# Plot the leaders and followers\n",
    "ax.plot(lf_x, l_y, '^', color=\"tab:orange\")\n",
    "ax.plot(lf_x, f_y, '^', color=\"tab:blue\")\n",
    "\n",
    "\n",
    "ax.set_xlim([0, map_bounds[0]])\n",
    "ax.set_ylim([0, map_bounds[1]])\n",
    "ax.set_aspect('equal', adjustable=\"box\")\n",
    "plt.show()"
   ]
  },
  {
   "cell_type": "code",
   "execution_count": 9,
   "metadata": {},
   "outputs": [
    {
     "name": "stdout",
     "output_type": "stream",
     "text": [
      "- [ 206.85488023938532 ,57.58491915413922 ]\n",
      "- [ 71.08664359626803 ,34.19619712286222 ]\n",
      "- [ 324.31543849463736 ,28.221294045627477 ]\n",
      "- [ 14.768102225712623 ,33.85378947302951 ]\n",
      "- [ 587.8248740783756 ,65.85542409416642 ]\n",
      "- [ 357.0610733187899 ,27.12725601691273 ]\n",
      "- [ 718.5113925148023 ,72.61087327128024 ]\n",
      "- [ 382.74072632367864 ,41.681799683841206 ]\n",
      "- [ 606.8494123676334 ,33.44312822973244 ]\n",
      "- [ 271.03151244738996 ,87.15837585216993 ]\n",
      "- [ 281.9947116803192 ,83.82198589118809 ]\n",
      "- [ 575.9000948291363 ,94.36423552367441 ]\n",
      "- [ 396.4967448778688 ,46.09643995507649 ]\n",
      "- [ 514.9766268793737 ,70.23505463900347 ]\n",
      "- [ 28.962785515007475 ,50.416547035971945 ]\n",
      "- [ 437.7078082804504 ,31.865529433371965 ]\n",
      "- [ 417.5406925194984 ,34.270289162631045 ]\n",
      "- [ 654.5632500763401 ,28.482046664474794 ]\n",
      "- [ 609.0528888899561 ,74.51026212526632 ]\n",
      "- [ 359.6570638434431 ,35.2099735819532 ]\n",
      "- [ 586.663728717525 ,93.34402953621327 ]\n",
      "- [ 659.2478781985002 ,70.1252485120645 ]\n",
      "- [ 264.2636928643252 ,58.50015217351274 ]\n",
      "- [ 70.02571198659707 ,58.84451370178738 ]\n",
      "- [ 331.24144640527754 ,32.60349307525524 ]\n"
     ]
    }
   ],
   "source": [
    "# Print out poi locations\n",
    "for poi in pois:\n",
    "    print(f\"- [ {poi[0]} ,{poi[1]} ]\")"
   ]
  },
  {
   "cell_type": "code",
   "execution_count": 4,
   "metadata": {},
   "outputs": [
    {
     "name": "stdout",
     "output_type": "stream",
     "text": [
      "- [ 30, 10.0 ]\n",
      "- [ 60, 10.0 ]\n",
      "- [ 90, 10.0 ]\n",
      "- [ 120, 10.0 ]\n",
      "- [ 150, 10.0 ]\n",
      "- [ 180, 10.0 ]\n",
      "- [ 210, 10.0 ]\n",
      "- [ 240, 10.0 ]\n",
      "- [ 270, 10.0 ]\n",
      "- [ 300, 10.0 ]\n",
      "- [ 330, 10.0 ]\n",
      "- [ 360, 10.0 ]\n",
      "- [ 390, 10.0 ]\n",
      "- [ 420, 10.0 ]\n",
      "- [ 450, 10.0 ]\n",
      "- [ 480, 10.0 ]\n",
      "- [ 510, 10.0 ]\n",
      "- [ 540, 10.0 ]\n",
      "- [ 570, 10.0 ]\n",
      "- [ 600, 10.0 ]\n",
      "- [ 630, 10.0 ]\n",
      "- [ 660, 10.0 ]\n",
      "- [ 690, 10.0 ]\n",
      "- [ 720, 10.0 ]\n",
      "- [ 750, 10.0 ]\n"
     ]
    }
   ],
   "source": [
    "# Print out leader locations\n",
    "for x,y in zip(lf_x, l_y):\n",
    "    print(f\"- [ {x}, {y} ]\")"
   ]
  },
  {
   "cell_type": "code",
   "execution_count": 5,
   "metadata": {},
   "outputs": [
    {
     "name": "stdout",
     "output_type": "stream",
     "text": [
      "- [ 30, 7.5 ]\n",
      "- [ 60, 7.5 ]\n",
      "- [ 90, 7.5 ]\n",
      "- [ 120, 7.5 ]\n",
      "- [ 150, 7.5 ]\n",
      "- [ 180, 7.5 ]\n",
      "- [ 210, 7.5 ]\n",
      "- [ 240, 7.5 ]\n",
      "- [ 270, 7.5 ]\n",
      "- [ 300, 7.5 ]\n",
      "- [ 330, 7.5 ]\n",
      "- [ 360, 7.5 ]\n",
      "- [ 390, 7.5 ]\n",
      "- [ 420, 7.5 ]\n",
      "- [ 450, 7.5 ]\n",
      "- [ 480, 7.5 ]\n",
      "- [ 510, 7.5 ]\n",
      "- [ 540, 7.5 ]\n",
      "- [ 570, 7.5 ]\n",
      "- [ 600, 7.5 ]\n",
      "- [ 630, 7.5 ]\n",
      "- [ 660, 7.5 ]\n",
      "- [ 690, 7.5 ]\n",
      "- [ 720, 7.5 ]\n",
      "- [ 750, 7.5 ]\n"
     ]
    }
   ],
   "source": [
    "for x,y in zip(lf_x, f_y):\n",
    "    print(f\"- [ {x}, {y} ]\")"
   ]
  },
  {
   "cell_type": "code",
   "execution_count": null,
   "metadata": {},
   "outputs": [],
   "source": []
  }
 ],
 "metadata": {
  "kernelspec": {
   "display_name": "leaders",
   "language": "python",
   "name": "python3"
  },
  "language_info": {
   "codemirror_mode": {
    "name": "ipython",
    "version": 3
   },
   "file_extension": ".py",
   "mimetype": "text/x-python",
   "name": "python",
   "nbconvert_exporter": "python",
   "pygments_lexer": "ipython3",
   "version": "3.10.12"
  },
  "orig_nbformat": 4
 },
 "nbformat": 4,
 "nbformat_minor": 2
}
