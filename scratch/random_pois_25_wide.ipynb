{
 "cells": [
  {
   "cell_type": "code",
   "execution_count": 2,
   "metadata": {},
   "outputs": [],
   "source": [
    "import numpy as np\n",
    "import matplotlib.pyplot as plt"
   ]
  },
  {
   "cell_type": "code",
   "execution_count": 7,
   "metadata": {},
   "outputs": [
    {
     "data": {
      "image/png": "[encoded data removed]",
      "text/plain": [
       "<Figure size 640x480 with 1 Axes>"
      ]
     },
     "metadata": {},
     "output_type": "display_data"
    }
   ],
   "source": [
    "# Set up POIs\n",
    "map_bounds = [260, 100]\n",
    "num_pois = 25\n",
    "lowest_poi_y = 25\n",
    "pois_x = np.random.uniform(low=5.0, high=map_bounds[0]-5, size=(25,1))\n",
    "pois_y = np.random.uniform(low=lowest_poi_y, high=map_bounds[1]-5, size=(25,1))\n",
    "pois = np.hstack((pois_x, pois_y))\n",
    "\n",
    "x_space = 10\n",
    "y_space = 10\n",
    "ly = 10\n",
    "lf_x = (np.arange(0,map_bounds[0],x_space)+x_space)[:num_pois]\n",
    "l_y = np.ones((len(lf_x)))*ly\n",
    "f_y = l_y+y_space\n",
    "\n",
    "# Set up the plot\n",
    "fig, ax = plt.subplots(nrows=1, ncols=1)\n",
    "# Plot the POIs\n",
    "ax.plot(pois[:,0], pois[:,1], '.', color=\"tab:green\")\n",
    "# Plot the leaders and followers\n",
    "ax.plot(lf_x, l_y, '^', color=\"tab:orange\")\n",
    "ax.plot(lf_x, f_y, '^', color=\"tab:blue\")\n",
    "\n",
    "\n",
    "ax.set_xlim([0, map_bounds[0]])\n",
    "ax.set_ylim([0, map_bounds[1]])\n",
    "ax.set_aspect('equal', adjustable=\"box\")\n",
    "plt.show()"
   ]
  },
  {
   "cell_type": "code",
   "execution_count": 9,
   "metadata": {},
   "outputs": [
    {
     "name": "stdout",
     "output_type": "stream",
     "text": [
      "- [ 91.32150880007191 ,91.22185545017444 ]\n",
      "- [ 192.2998501741834 ,87.29685581307797 ]\n",
      "- [ 102.4196080003881 ,53.44455697022157 ]\n",
      "- [ 207.74891554003273 ,37.75214460839619 ]\n",
      "- [ 164.73517211879584 ,30.246213202959233 ]\n",
      "- [ 30.61503157472217 ,59.829680623497545 ]\n",
      "- [ 248.8922254417578 ,93.54447010977276 ]\n",
      "- [ 58.94111660853401 ,79.14339242661977 ]\n",
      "- [ 111.30496687975774 ,44.39247146635065 ]\n",
      "- [ 248.90291515594728 ,66.86130405543409 ]\n",
      "- [ 87.719427520123 ,83.19115469346525 ]\n",
      "- [ 235.94759533223967 ,59.98641680807917 ]\n",
      "- [ 166.0425594694773 ,75.40669558636742 ]\n",
      "- [ 55.10168685741439 ,40.16933223312516 ]\n",
      "- [ 158.79616942465046 ,47.427298369206454 ]\n",
      "- [ 45.895909941079864 ,35.94206364891604 ]\n",
      "- [ 171.49322711102363 ,94.78222369873171 ]\n",
      "- [ 189.57307099995518 ,91.31193547435333 ]\n",
      "- [ 82.91185014365293 ,41.382019440755556 ]\n",
      "- [ 30.105042675621082 ,50.652643173758655 ]\n",
      "- [ 182.39846990716083 ,83.65752369415858 ]\n",
      "- [ 5.5959919583851665 ,69.68433017110884 ]\n",
      "- [ 253.64682559105597 ,56.5241757544145 ]\n",
      "- [ 12.408738582145997 ,63.99814875448873 ]\n",
      "- [ 150.43912441271374 ,77.68039824273134 ]\n"
     ]
    }
   ],
   "source": [
    "# Print out poi locations\n",
    "for poi in pois:\n",
    "    print(f\"- [ {poi[0]} ,{poi[1]} ]\")"
   ]
  },
  {
   "cell_type": "code",
   "execution_count": 10,
   "metadata": {},
   "outputs": [
    {
     "name": "stdout",
     "output_type": "stream",
     "text": [
      "- [ 10, 10.0 ]\n",
      "- [ 20, 10.0 ]\n",
      "- [ 30, 10.0 ]\n",
      "- [ 40, 10.0 ]\n",
      "- [ 50, 10.0 ]\n",
      "- [ 60, 10.0 ]\n",
      "- [ 70, 10.0 ]\n",
      "- [ 80, 10.0 ]\n",
      "- [ 90, 10.0 ]\n",
      "- [ 100, 10.0 ]\n",
      "- [ 110, 10.0 ]\n",
      "- [ 120, 10.0 ]\n",
      "- [ 130, 10.0 ]\n",
      "- [ 140, 10.0 ]\n",
      "- [ 150, 10.0 ]\n",
      "- [ 160, 10.0 ]\n",
      "- [ 170, 10.0 ]\n",
      "- [ 180, 10.0 ]\n",
      "- [ 190, 10.0 ]\n",
      "- [ 200, 10.0 ]\n",
      "- [ 210, 10.0 ]\n",
      "- [ 220, 10.0 ]\n",
      "- [ 230, 10.0 ]\n",
      "- [ 240, 10.0 ]\n",
      "- [ 250, 10.0 ]\n"
     ]
    }
   ],
   "source": [
    "# Print out leader locations\n",
    "for x,y in zip(lf_x, l_y):\n",
    "    print(f\"- [ {x}, {y} ]\")"
   ]
  },
  {
   "cell_type": "code",
   "execution_count": 11,
   "metadata": {},
   "outputs": [
    {
     "name": "stdout",
     "output_type": "stream",
     "text": [
      "- [ 10, 20.0 ]\n",
      "- [ 20, 20.0 ]\n",
      "- [ 30, 20.0 ]\n",
      "- [ 40, 20.0 ]\n",
      "- [ 50, 20.0 ]\n",
      "- [ 60, 20.0 ]\n",
      "- [ 70, 20.0 ]\n",
      "- [ 80, 20.0 ]\n",
      "- [ 90, 20.0 ]\n",
      "- [ 100, 20.0 ]\n",
      "- [ 110, 20.0 ]\n",
      "- [ 120, 20.0 ]\n",
      "- [ 130, 20.0 ]\n",
      "- [ 140, 20.0 ]\n",
      "- [ 150, 20.0 ]\n",
      "- [ 160, 20.0 ]\n",
      "- [ 170, 20.0 ]\n",
      "- [ 180, 20.0 ]\n",
      "- [ 190, 20.0 ]\n",
      "- [ 200, 20.0 ]\n",
      "- [ 210, 20.0 ]\n",
      "- [ 220, 20.0 ]\n",
      "- [ 230, 20.0 ]\n",
      "- [ 240, 20.0 ]\n",
      "- [ 250, 20.0 ]\n"
     ]
    }
   ],
   "source": [
    "for x,y in zip(lf_x, f_y):\n",
    "    print(f\"- [ {x}, {y} ]\")"
   ]
  },
  {
   "cell_type": "code",
   "execution_count": null,
   "metadata": {},
   "outputs": [],
   "source": []
  }
 ],
 "metadata": {
  "kernelspec": {
   "display_name": "leaders",
   "language": "python",
   "name": "python3"
  },
  "language_info": {
   "codemirror_mode": {
    "name": "ipython",
    "version": 3
   },
   "file_extension": ".py",
   "mimetype": "text/x-python",
   "name": "python",
   "nbconvert_exporter": "python",
   "pygments_lexer": "ipython3",
   "version": "3.10.12"
  },
  "orig_nbformat": 4
 },
 "nbformat": 4,
 "nbformat_minor": 2
}
