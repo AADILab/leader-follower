{
 "cells": [
  {
   "cell_type": "code",
   "execution_count": 1,
   "metadata": {},
   "outputs": [],
   "source": [
    "import numpy as np\n",
    "import matplotlib.pyplot as plt"
   ]
  },
  {
   "cell_type": "code",
   "execution_count": 5,
   "metadata": {},
   "outputs": [
    {
     "data": {
      "image/png": "[encoded data removed]",
      "text/plain": [
       "<Figure size 640x480 with 1 Axes>"
      ]
     },
     "metadata": {},
     "output_type": "display_data"
    }
   ],
   "source": [
    "# Set up POIs\n",
    "map_bounds = [150, 150]\n",
    "num_pois = 10\n",
    "lowest_poi_y = 25\n",
    "pois_x = np.random.uniform(low=5.0, high=map_bounds[0]-5, size=(num_pois,1))\n",
    "pois_y = np.random.uniform(low=lowest_poi_y, high=map_bounds[1]-5, size=(num_pois,1))\n",
    "pois = np.hstack((pois_x, pois_y))\n",
    "\n",
    "x_space = 15\n",
    "y_space = 2.5\n",
    "ly = 10\n",
    "lf_x = (np.arange(0,map_bounds[0],x_space)+10)[:10]\n",
    "l_y = np.ones((len(lf_x)))*ly\n",
    "f_y = l_y-2.5\n",
    "\n",
    "# Set up the plot\n",
    "fig, ax = plt.subplots(nrows=1, ncols=1)\n",
    "# Plot the POIs\n",
    "ax.plot(pois[:,0], pois[:,1], '.', color=\"tab:green\")\n",
    "# Plot the leaders and followers\n",
    "ax.plot(lf_x, l_y, '^', color=\"tab:orange\")\n",
    "ax.plot(lf_x, f_y, '^', color=\"tab:blue\")\n",
    "\n",
    "\n",
    "ax.set_xlim([0, map_bounds[0]])\n",
    "ax.set_ylim([0, map_bounds[1]])\n",
    "ax.set_aspect('equal', adjustable=\"box\")\n",
    "plt.show()"
   ]
  },
  {
   "cell_type": "code",
   "execution_count": 8,
   "metadata": {},
   "outputs": [
    {
     "name": "stdout",
     "output_type": "stream",
     "text": [
      "- [ 7.724756062760272 ,132.83685912068893 ]\n",
      "- [ 44.2745428705435 ,41.173901741338945 ]\n",
      "- [ 92.46691197985926 ,124.63787111659865 ]\n",
      "- [ 101.42430809976551 ,126.21513887007731 ]\n",
      "- [ 15.999187025076846 ,95.75462995205699 ]\n",
      "- [ 82.27367541367668 ,140.24622335767953 ]\n",
      "- [ 111.77900792372567 ,39.93472561878485 ]\n",
      "- [ 55.8035083390353 ,67.92097861940505 ]\n",
      "- [ 91.48726553997838 ,94.30714590850651 ]\n",
      "- [ 114.05326040001553 ,113.26000155757447 ]\n"
     ]
    }
   ],
   "source": [
    "# Print out poi locations\n",
    "for poi in pois:\n",
    "    print(f\"- [ {poi[0]} ,{poi[1]} ]\")"
   ]
  },
  {
   "cell_type": "code",
   "execution_count": 10,
   "metadata": {},
   "outputs": [
    {
     "name": "stdout",
     "output_type": "stream",
     "text": [
      "- [ 10, 10.0 ]\n",
      "- [ 25, 10.0 ]\n",
      "- [ 40, 10.0 ]\n",
      "- [ 55, 10.0 ]\n",
      "- [ 70, 10.0 ]\n",
      "- [ 85, 10.0 ]\n",
      "- [ 100, 10.0 ]\n",
      "- [ 115, 10.0 ]\n",
      "- [ 130, 10.0 ]\n",
      "- [ 145, 10.0 ]\n"
     ]
    }
   ],
   "source": [
    "# Print out leader locations\n",
    "for x,y in zip(lf_x, l_y):\n",
    "    print(f\"- [ {x}, {y} ]\")"
   ]
  },
  {
   "cell_type": "code",
   "execution_count": 11,
   "metadata": {},
   "outputs": [
    {
     "name": "stdout",
     "output_type": "stream",
     "text": [
      "- [ 10, 7.5 ]\n",
      "- [ 25, 7.5 ]\n",
      "- [ 40, 7.5 ]\n",
      "- [ 55, 7.5 ]\n",
      "- [ 70, 7.5 ]\n",
      "- [ 85, 7.5 ]\n",
      "- [ 100, 7.5 ]\n",
      "- [ 115, 7.5 ]\n",
      "- [ 130, 7.5 ]\n",
      "- [ 145, 7.5 ]\n"
     ]
    }
   ],
   "source": [
    "# Print out follower locations\n",
    "for x,y in zip(lf_x, f_y):\n",
    "    print(f\"- [ {x}, {y} ]\")"
   ]
  },
  {
   "cell_type": "code",
   "execution_count": null,
   "metadata": {},
   "outputs": [],
   "source": []
  }
 ],
 "metadata": {
  "kernelspec": {
   "display_name": "leaders",
   "language": "python",
   "name": "python3"
  },
  "language_info": {
   "codemirror_mode": {
    "name": "ipython",
    "version": 3
   },
   "file_extension": ".py",
   "mimetype": "text/x-python",
   "name": "python",
   "nbconvert_exporter": "python",
   "pygments_lexer": "ipython3",
   "version": "3.10.12"
  },
  "orig_nbformat": 4
 },
 "nbformat": 4,
 "nbformat_minor": 2
}
