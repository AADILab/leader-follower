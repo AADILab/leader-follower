{
 "cells": [
  {
   "cell_type": "code",
   "execution_count": 4,
   "metadata": {},
   "outputs": [],
   "source": [
    "import numpy as np\n",
    "import matplotlib.pyplot as plt"
   ]
  },
  {
   "cell_type": "code",
   "execution_count": 44,
   "metadata": {},
   "outputs": [
    {
     "data": {
      "image/png": "[encoded data removed]",
      "text/plain": [
       "<Figure size 640x480 with 1 Axes>"
      ]
     },
     "metadata": {},
     "output_type": "display_data"
    }
   ],
   "source": [
    "# Set up POIs\n",
    "map_bounds = [150, 150]\n",
    "num_pois = 25\n",
    "lowest_poi_y = 25\n",
    "pois_x = np.random.uniform(low=5.0, high=map_bounds[0]-5, size=(25,1))\n",
    "pois_y = np.random.uniform(low=lowest_poi_y, high=map_bounds[1]-5, size=(25,1))\n",
    "pois = np.hstack((pois_x, pois_y))\n",
    "\n",
    "x_space = 5.5\n",
    "y_space = 2.5\n",
    "ly = 10\n",
    "lf_x = (np.arange(0,map_bounds[0],x_space)+10)[:25]\n",
    "l_y = np.ones((len(lf_x)))*ly\n",
    "f_y = l_y-2.5\n",
    "\n",
    "# Set up the plot\n",
    "fig, ax = plt.subplots(nrows=1, ncols=1)\n",
    "# Plot the POIs\n",
    "ax.plot(pois[:,0], pois[:,1], '.', color=\"tab:green\")\n",
    "# Plot the leaders and followers\n",
    "ax.plot(lf_x, l_y, '^', color=\"tab:orange\")\n",
    "ax.plot(lf_x, f_y, '^', color=\"tab:blue\")\n",
    "\n",
    "\n",
    "ax.set_xlim([0, map_bounds[0]])\n",
    "ax.set_ylim([0, map_bounds[1]])\n",
    "ax.set_aspect('equal', adjustable=\"box\")\n",
    "plt.show()"
   ]
  },
  {
   "cell_type": "code",
   "execution_count": 47,
   "metadata": {},
   "outputs": [
    {
     "name": "stdout",
     "output_type": "stream",
     "text": [
      "- [ 111.46687525272463 ,44.557166587649775 ]\n",
      "- [ 21.78930151196519 ,55.04007692667577 ]\n",
      "- [ 43.83695911534487 ,41.24418669641495 ]\n",
      "- [ 30.29809985257576 ,132.0940797343709 ]\n",
      "- [ 140.3853660519999 ,39.895497805021144 ]\n",
      "- [ 102.86433656013213 ,65.94533658533035 ]\n",
      "- [ 108.90282658018977 ,62.916933716248366 ]\n",
      "- [ 79.6578066798109 ,43.70442440761002 ]\n",
      "- [ 80.29572287889687 ,113.34610742885951 ]\n",
      "- [ 28.90038797977863 ,143.42354054235884 ]\n",
      "- [ 58.389866654524305 ,121.69983261012526 ]\n",
      "- [ 42.338047746840985 ,29.358415846969553 ]\n",
      "- [ 29.004354387463586 ,135.5309666867046 ]\n",
      "- [ 21.880418388052632 ,86.09939033348365 ]\n",
      "- [ 43.53885799063552 ,106.06644414193738 ]\n",
      "- [ 121.66657065648312 ,67.83432627802539 ]\n",
      "- [ 17.905860400276545 ,143.72495629657314 ]\n",
      "- [ 93.08053380559686 ,78.16367205515763 ]\n",
      "- [ 14.027002132198803 ,39.096369886309546 ]\n",
      "- [ 56.576714844521945 ,51.188132678940974 ]\n",
      "- [ 57.448012263294224 ,59.15514581402319 ]\n",
      "- [ 48.06616430945602 ,106.43423609633832 ]\n",
      "- [ 56.26810076855286 ,40.15739001712393 ]\n",
      "- [ 26.01874582596618 ,110.02697305062841 ]\n",
      "- [ 107.3663864290882 ,97.682581416223 ]\n"
     ]
    }
   ],
   "source": [
    "# Print out poi locations\n",
    "for poi in pois:\n",
    "    print(f\"- [ {poi[0]} ,{poi[1]} ]\")"
   ]
  },
  {
   "cell_type": "code",
   "execution_count": 48,
   "metadata": {},
   "outputs": [
    {
     "name": "stdout",
     "output_type": "stream",
     "text": [
      "- [ 10.0, 10.0 ]\n",
      "- [ 15.5, 10.0 ]\n",
      "- [ 21.0, 10.0 ]\n",
      "- [ 26.5, 10.0 ]\n",
      "- [ 32.0, 10.0 ]\n",
      "- [ 37.5, 10.0 ]\n",
      "- [ 43.0, 10.0 ]\n",
      "- [ 48.5, 10.0 ]\n",
      "- [ 54.0, 10.0 ]\n",
      "- [ 59.5, 10.0 ]\n",
      "- [ 65.0, 10.0 ]\n",
      "- [ 70.5, 10.0 ]\n",
      "- [ 76.0, 10.0 ]\n",
      "- [ 81.5, 10.0 ]\n",
      "- [ 87.0, 10.0 ]\n",
      "- [ 92.5, 10.0 ]\n",
      "- [ 98.0, 10.0 ]\n",
      "- [ 103.5, 10.0 ]\n",
      "- [ 109.0, 10.0 ]\n",
      "- [ 114.5, 10.0 ]\n",
      "- [ 120.0, 10.0 ]\n",
      "- [ 125.5, 10.0 ]\n",
      "- [ 131.0, 10.0 ]\n",
      "- [ 136.5, 10.0 ]\n",
      "- [ 142.0, 10.0 ]\n"
     ]
    }
   ],
   "source": [
    "# Print out leader locations\n",
    "for x,y in zip(lf_x, l_y):\n",
    "    print(f\"- [ {x}, {y} ]\")"
   ]
  },
  {
   "cell_type": "code",
   "execution_count": 49,
   "metadata": {},
   "outputs": [
    {
     "name": "stdout",
     "output_type": "stream",
     "text": [
      "- [ 10.0, 7.5 ]\n",
      "- [ 15.5, 7.5 ]\n",
      "- [ 21.0, 7.5 ]\n",
      "- [ 26.5, 7.5 ]\n",
      "- [ 32.0, 7.5 ]\n",
      "- [ 37.5, 7.5 ]\n",
      "- [ 43.0, 7.5 ]\n",
      "- [ 48.5, 7.5 ]\n",
      "- [ 54.0, 7.5 ]\n",
      "- [ 59.5, 7.5 ]\n",
      "- [ 65.0, 7.5 ]\n",
      "- [ 70.5, 7.5 ]\n",
      "- [ 76.0, 7.5 ]\n",
      "- [ 81.5, 7.5 ]\n",
      "- [ 87.0, 7.5 ]\n",
      "- [ 92.5, 7.5 ]\n",
      "- [ 98.0, 7.5 ]\n",
      "- [ 103.5, 7.5 ]\n",
      "- [ 109.0, 7.5 ]\n",
      "- [ 114.5, 7.5 ]\n",
      "- [ 120.0, 7.5 ]\n",
      "- [ 125.5, 7.5 ]\n",
      "- [ 131.0, 7.5 ]\n",
      "- [ 136.5, 7.5 ]\n",
      "- [ 142.0, 7.5 ]\n"
     ]
    }
   ],
   "source": [
    "for x,y in zip(lf_x, f_y):\n",
    "    print(f\"- [ {x}, {y} ]\")"
   ]
  },
  {
   "cell_type": "code",
   "execution_count": null,
   "metadata": {},
   "outputs": [],
   "source": []
  }
 ],
 "metadata": {
  "kernelspec": {
   "display_name": "leaders",
   "language": "python",
   "name": "python3"
  },
  "language_info": {
   "codemirror_mode": {
    "name": "ipython",
    "version": 3
   },
   "file_extension": ".py",
   "mimetype": "text/x-python",
   "name": "python",
   "nbconvert_exporter": "python",
   "pygments_lexer": "ipython3",
   "version": "3.10.12"
  },
  "orig_nbformat": 4
 },
 "nbformat": 4,
 "nbformat_minor": 2
}
