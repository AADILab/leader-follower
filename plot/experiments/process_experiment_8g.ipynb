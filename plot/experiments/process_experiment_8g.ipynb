{
 "cells": [
  {
   "cell_type": "code",
   "execution_count": 8,
   "metadata": {},
   "outputs": [],
   "source": [
    "import sys; sys.path.append(\"/home/gonzaeve/boids/leader-follower\")\n",
    "import numpy as np\n",
    "import matplotlib.pyplot as plt\n",
    "from lib.file_helper import loadBatch, loadConfigData\n",
    "from lib.plot_helpers import plotBatchPerformance, PerformanceMetric\n",
    "from lib.data_helpers import getEvalFitnesses\n",
    "import matplotlib\n",
    "font = {\n",
    "        # 'family' : 'Helvetica',\n",
    "        # 'weight' : 'bold',\n",
    "        'size'   : 15}\n",
    "matplotlib.rc('font', **font)\n",
    "# As far as I can tell, matplotlib inline isn't supported for running a jupyter notebook with vscode\n",
    "# But this line should work for interactive figures for working within a jupyter notebook outside vscode\n",
    "%matplotlib qt"
   ]
  },
  {
   "cell_type": "code",
   "execution_count": 2,
   "metadata": {},
   "outputs": [
    {
     "name": "stdout",
     "output_type": "stream",
     "text": [
      "Dfollow trials:  ['trial_8', 'trial_7', 'trial_6']\n",
      "D trials:  ['trial_5', 'trial_4', 'trial_3']\n",
      "G trials:  ['trial_2', 'trial_1', 'trial_0']\n"
     ]
    },
    {
     "name": "stderr",
     "output_type": "stream",
     "text": [
      "100%|██████████| 501/501 [00:13<00:00, 37.19it/s]\n",
      "100%|██████████| 501/501 [00:13<00:00, 36.32it/s]\n",
      "100%|██████████| 501/501 [00:13<00:00, 36.10it/s]\n",
      "100%|██████████| 501/501 [00:13<00:00, 36.09it/s]\n",
      "100%|██████████| 501/501 [00:13<00:00, 36.60it/s]\n",
      "100%|██████████| 501/501 [00:13<00:00, 37.26it/s]\n",
      "100%|██████████| 501/501 [00:13<00:00, 37.48it/s]\n",
      "100%|██████████| 501/501 [00:13<00:00, 37.21it/s]\n",
      "100%|██████████| 501/501 [00:13<00:00, 36.47it/s]\n"
     ]
    }
   ],
   "source": [
    "\"\"\"Load in the batch data\"\"\"\n",
    "start_trial_num = 8\n",
    "num_stat_runs = 3\n",
    "computername = \"experiment_8g\"\n",
    "\n",
    "tested_G = True\n",
    "tested_D = True\n",
    "tested_Dfollow = True\n",
    "\n",
    "num_generations, trial_datas_Dfollow, trial_datas_D, trial_datas_G = loadBatch(\n",
    "    computername=computername,\n",
    "    start_trial_num=start_trial_num,\n",
    "    num_stat_runs=num_stat_runs,\n",
    "    tested_G=tested_G,\n",
    "    tested_D=tested_D,\n",
    "    tested_Dfollow=tested_Dfollow\n",
    ")"
   ]
  },
  {
   "cell_type": "code",
   "execution_count": 6,
   "metadata": {},
   "outputs": [
    {
     "name": "stdout",
     "output_type": "stream",
     "text": [
      "Saving plot as  figures/trial_8 | stat_runs 3 | Evaluation Team | G D Df | std err | experiment_8g.png\n",
      "Saving plot as  figures/trial_8 | stat_runs 3 | Evaluation Team | G D Df | std err | experiment_8g.svg\n"
     ]
    }
   ],
   "source": [
    "\"\"\"Plot the evaluation team performance metric\"\"\"\n",
    "plot_min_max_range = False\n",
    "\n",
    "plotBatchPerformance(\n",
    "    trial_datas_G=trial_datas_G,\n",
    "    trial_datas_D=trial_datas_D,\n",
    "    trial_datas_Dfollow=trial_datas_Dfollow,\n",
    "    plot_min_max_range=plot_min_max_range,\n",
    "    start_trial_num=start_trial_num,\n",
    "    num_stat_runs=num_stat_runs,\n",
    "    computername=computername,\n",
    "    performance_metric=PerformanceMetric.EvaluationTeam\n",
    ")\n"
   ]
  },
  {
   "cell_type": "code",
   "execution_count": 5,
   "metadata": {},
   "outputs": [
    {
     "name": "stderr",
     "output_type": "stream",
     "text": [
      "/home/gonzaeve/boids/leader-follower/lib/data_helpers.py:74: VisibleDeprecationWarning: Creating an ndarray from ragged nested sequences (which is a list-or-tuple of lists-or-tuples-or ndarrays with different lengths or shapes) is deprecated. If you meant to do this, you must specify 'dtype=object' when creating the ndarray.\n",
      "  return np.array(all_team_fitnesses), np.array(all_agent_fitnesses)\n"
     ]
    },
    {
     "name": "stdout",
     "output_type": "stream",
     "text": [
      "Saving plot as  figures/trial_8 | stat_runs 3 | Best Training Team | G D Df | full range | experiment_8g.png\n",
      "Saving plot as  figures/trial_8 | stat_runs 3 | Best Training Team | G D Df | full range | experiment_8g.svg\n"
     ]
    }
   ],
   "source": [
    "\"\"\"Plot the best training team performance metric\"\"\"\n",
    "plot_min_max_range = True\n",
    "\n",
    "plotBatchPerformance(\n",
    "    trial_datas_G=trial_datas_G,\n",
    "    trial_datas_D=trial_datas_D,\n",
    "    trial_datas_Dfollow=trial_datas_Dfollow,\n",
    "    plot_min_max_range=plot_min_max_range,\n",
    "    start_trial_num=start_trial_num,\n",
    "    num_stat_runs=num_stat_runs,\n",
    "    computername=computername,\n",
    "    performance_metric=PerformanceMetric.BestTrainingTeam\n",
    ")"
   ]
  },
  {
   "cell_type": "code",
   "execution_count": 9,
   "metadata": {},
   "outputs": [],
   "source": [
    "# Aggregate data for the more detailed plot of trial performances\n",
    "\n",
    "# G, D, then Dfollow\n",
    "trial_data_0 = trial_datas_G[0]\n",
    "trial_data_1 = trial_datas_G[1]\n",
    "trial_data_2 = trial_datas_G[2]\n",
    "\n",
    "trial_data_3 = trial_datas_D[0]\n",
    "trial_data_4 = trial_datas_D[1]\n",
    "trial_data_5 = trial_datas_D[2]\n",
    "\n",
    "trial_data_6 = trial_datas_Dfollow[0]\n",
    "trial_data_7 = trial_datas_Dfollow[1]\n",
    "trial_data_8 = trial_datas_Dfollow[2]\n",
    "\n",
    "team_fitness_0, agent_fitnesses_0 = getEvalFitnesses(trial_data_0)\n",
    "team_fitness_1, agent_fitnesses_1 = getEvalFitnesses(trial_data_1)\n",
    "team_fitness_2, agent_fitnesses_2 = getEvalFitnesses(trial_data_2)\n",
    "\n",
    "team_fitness_3, agent_fitnesses_3 = getEvalFitnesses(trial_data_3)\n",
    "team_fitness_4, agent_fitnesses_4 = getEvalFitnesses(trial_data_4)\n",
    "team_fitness_5, agent_fitnesses_5 = getEvalFitnesses(trial_data_5)\n",
    "\n",
    "team_fitness_6, agent_fitnesses_6 = getEvalFitnesses(trial_data_6)\n",
    "team_fitness_7, agent_fitnesses_7 = getEvalFitnesses(trial_data_7)\n",
    "team_fitness_8, agent_fitnesses_8 = getEvalFitnesses(trial_data_8)\n",
    "\n",
    "config = loadConfigData(trialname=\"trial_0\", computername=\"experiment_8g\")\n",
    "leader_colors = config[\"CCEA\"][\"config\"][\"BoidsEnv\"][\"config\"][\"Renderer\"][\"leader_colors\"]\n",
    "leader_colors = tuple(np.array(leader_colors)/255)"
   ]
  },
  {
   "cell_type": "code",
   "execution_count": 12,
   "metadata": {},
   "outputs": [],
   "source": [
    "plt.plot(team_fitness_0, color=\"royalblue\", linestyle=\"-\")\n",
    "plt.plot(team_fitness_1, color=\"navy\", linestyle=\"-\")\n",
    "plt.plot(team_fitness_2, color=\"blue\", linestyle=\"-\")\n",
    "\n",
    "plt.plot(team_fitness_3, color=\"darkorange\", linestyle=\"-\")\n",
    "plt.plot(team_fitness_4, color=\"navajowhite\", linestyle=\"-\")\n",
    "plt.plot(team_fitness_5, color=\"orange\", linestyle=\"-\")\n",
    "\n",
    "plt.plot(team_fitness_6, color=\"forestgreen\", linestyle=\"-\")\n",
    "plt.plot(team_fitness_7, color=\"limegreen\", linestyle=\"-\")\n",
    "plt.plot(team_fitness_8, color=\"darkgreen\", linestyle=\"-\")\n",
    "\n",
    "plt.show()"
   ]
  },
  {
   "cell_type": "code",
   "execution_count": null,
   "metadata": {},
   "outputs": [],
   "source": []
  }
 ],
 "metadata": {
  "kernelspec": {
   "display_name": "leaders",
   "language": "python",
   "name": "python3"
  },
  "language_info": {
   "codemirror_mode": {
    "name": "ipython",
    "version": 3
   },
   "file_extension": ".py",
   "mimetype": "text/x-python",
   "name": "python",
   "nbconvert_exporter": "python",
   "pygments_lexer": "ipython3",
   "version": "3.10.12"
  },
  "orig_nbformat": 4
 },
 "nbformat": 4,
 "nbformat_minor": 2
}
