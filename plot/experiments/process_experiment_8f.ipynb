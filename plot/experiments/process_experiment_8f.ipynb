{
 "cells": [
  {
   "cell_type": "code",
   "execution_count": 1,
   "metadata": {},
   "outputs": [],
   "source": [
    "import sys; sys.path.append(\"/home/gonzaeve/boids/leader-follower\")\n",
    "import numpy as np\n",
    "import matplotlib.pyplot as plt\n",
    "from leaderfollower.file_helper import loadBatch\n",
    "from leaderfollower.plot_helpers import plotBatchPerformance, PerformanceMetric\n",
    "import matplotlib\n",
    "font = {\n",
    "        # 'family' : 'Helvetica',\n",
    "        # 'weight' : 'bold',\n",
    "        'size'   : 15}\n",
    "matplotlib.rc('font', **font)\n",
    "# As far as I can tell, matplotlib inline isn't supported for running a jupyter notebook with vscode\n",
    "# But this line should work for interactive figures for working within a jupyter notebook outside vscode\n",
    "%matplotlib qt"
   ]
  },
  {
   "cell_type": "code",
   "execution_count": 2,
   "metadata": {},
   "outputs": [
    {
     "name": "stdout",
     "output_type": "stream",
     "text": [
      "Dfollow trials:  ['trial_8', 'trial_7', 'trial_6']\n",
      "D trials:  ['trial_5', 'trial_4', 'trial_3']\n",
      "G trials:  ['trial_2', 'trial_1', 'trial_0']\n"
     ]
    },
    {
     "name": "stderr",
     "output_type": "stream",
     "text": [
      "100%|██████████| 501/501 [00:46<00:00, 10.68it/s]\n",
      "100%|██████████| 501/501 [00:46<00:00, 10.83it/s]\n",
      "100%|██████████| 501/501 [00:48<00:00, 10.38it/s]\n",
      "100%|██████████| 501/501 [00:55<00:00,  9.10it/s]\n",
      "100%|██████████| 501/501 [00:55<00:00,  9.01it/s]\n",
      "100%|██████████| 501/501 [00:54<00:00,  9.23it/s]\n",
      "100%|██████████| 501/501 [00:55<00:00,  9.04it/s]\n",
      "100%|██████████| 501/501 [00:54<00:00,  9.21it/s]\n",
      "100%|██████████| 501/501 [00:54<00:00,  9.22it/s]\n"
     ]
    }
   ],
   "source": [
    "\"\"\"Load in the batch data\"\"\"\n",
    "start_trial_num = 8\n",
    "num_stat_runs = 3\n",
    "computername = \"experiment_8f\"\n",
    "\n",
    "tested_G = True\n",
    "tested_D = True\n",
    "tested_Dfollow = True\n",
    "\n",
    "num_generations, trial_datas_Dfollow, trial_datas_D, trial_datas_G = loadBatch(\n",
    "    computername=computername,\n",
    "    start_trial_num=start_trial_num,\n",
    "    num_stat_runs=num_stat_runs,\n",
    "    tested_G=tested_G,\n",
    "    tested_D=tested_D,\n",
    "    tested_Dfollow=tested_Dfollow\n",
    ")"
   ]
  },
  {
   "cell_type": "code",
   "execution_count": 10,
   "metadata": {},
   "outputs": [
    {
     "name": "stdout",
     "output_type": "stream",
     "text": [
      "Saving plot as  figures/trial_8 | stat_runs 3 | Evaluation Team | G D Df | full range | experiment_8f.png\n",
      "Saving plot as  figures/trial_8 | stat_runs 3 | Evaluation Team | G D Df | full range | experiment_8f.svg\n"
     ]
    }
   ],
   "source": [
    "\"\"\"Plot the evaluation team performance metric\"\"\"\n",
    "plot_min_max_range = True\n",
    "\n",
    "plotBatchPerformance(\n",
    "    trial_datas_G=trial_datas_G,\n",
    "    trial_datas_D=trial_datas_D,\n",
    "    trial_datas_Dfollow=trial_datas_Dfollow,\n",
    "    plot_min_max_range=plot_min_max_range,\n",
    "    start_trial_num=start_trial_num,\n",
    "    num_stat_runs=num_stat_runs,\n",
    "    computername=computername,\n",
    "    performance_metric=PerformanceMetric.EvaluationTeam\n",
    ")\n"
   ]
  },
  {
   "cell_type": "code",
   "execution_count": 11,
   "metadata": {},
   "outputs": [
    {
     "name": "stdout",
     "output_type": "stream",
     "text": [
      "Saving plot as  figures/trial_8 | stat_runs 3 | Best Training Team | G D Df | full range | experiment_8f.png\n",
      "Saving plot as  figures/trial_8 | stat_runs 3 | Best Training Team | G D Df | full range | experiment_8f.svg\n"
     ]
    }
   ],
   "source": [
    "\"\"\"Plot the best training team performance metric\"\"\"\n",
    "plot_min_max_range = True\n",
    "\n",
    "plotBatchPerformance(\n",
    "    trial_datas_G=trial_datas_G,\n",
    "    trial_datas_D=trial_datas_D,\n",
    "    trial_datas_Dfollow=trial_datas_Dfollow,\n",
    "    plot_min_max_range=plot_min_max_range,\n",
    "    start_trial_num=start_trial_num,\n",
    "    num_stat_runs=num_stat_runs,\n",
    "    computername=computername,\n",
    "    performance_metric=PerformanceMetric.BestTrainingTeam\n",
    ")"
   ]
  },
  {
   "cell_type": "code",
   "execution_count": null,
   "metadata": {},
   "outputs": [],
   "source": []
  },
  {
   "cell_type": "code",
   "execution_count": null,
   "metadata": {},
   "outputs": [],
   "source": []
  }
 ],
 "metadata": {
  "kernelspec": {
   "display_name": "leaders",
   "language": "python",
   "name": "python3"
  },
  "language_info": {
   "codemirror_mode": {
    "name": "ipython",
    "version": 3
   },
   "file_extension": ".py",
   "mimetype": "text/x-python",
   "name": "python",
   "nbconvert_exporter": "python",
   "pygments_lexer": "ipython3",
   "version": "3.10.12"
  },
  "orig_nbformat": 4
 },
 "nbformat": 4,
 "nbformat_minor": 2
}
