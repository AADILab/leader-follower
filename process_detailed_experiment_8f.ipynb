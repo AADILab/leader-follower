{
 "cells": [
  {
   "cell_type": "code",
   "execution_count": 1,
   "metadata": {},
   "outputs": [],
   "source": [
    "import sys; sys.path.append(\"/home/gonzaeve/boids/leader-follower\")\n",
    "from lib.file_helper import loadTrialData, loadConfigData\n",
    "from lib.data_helpers import getEvalFitnesses\n",
    "import numpy as np\n"
   ]
  },
  {
   "cell_type": "code",
   "execution_count": 2,
   "metadata": {},
   "outputs": [
    {
     "name": "stderr",
     "output_type": "stream",
     "text": [
      "100%|██████████| 501/501 [00:46<00:00, 10.86it/s]\n",
      "100%|██████████| 501/501 [00:47<00:00, 10.62it/s]\n",
      "100%|██████████| 501/501 [00:45<00:00, 10.99it/s]\n",
      "100%|██████████| 501/501 [00:46<00:00, 10.82it/s]\n",
      "100%|██████████| 501/501 [00:46<00:00, 10.87it/s]\n",
      "100%|██████████| 501/501 [00:47<00:00, 10.56it/s]\n",
      "100%|██████████| 501/501 [00:49<00:00, 10.22it/s]\n",
      "100%|██████████| 501/501 [00:47<00:00, 10.58it/s]\n",
      "100%|██████████| 501/501 [00:46<00:00, 10.79it/s]\n"
     ]
    }
   ],
   "source": [
    "experiment_name = \"experiment_8f\"\n",
    "\n",
    "trial_data_0 = loadTrialData(trialname=\"trial_0\", computername=experiment_name, load_populations=False, load_evaluation_teams=True, load_training_teams=True)\n",
    "trial_data_1 = loadTrialData(trialname=\"trial_1\", computername=experiment_name, load_populations=False, load_evaluation_teams=True, load_training_teams=True)\n",
    "trial_data_2 = loadTrialData(trialname=\"trial_2\", computername=experiment_name, load_populations=False, load_evaluation_teams=True, load_training_teams=True)\n",
    "\n",
    "trial_data_3 = loadTrialData(trialname=\"trial_3\", computername=experiment_name, load_populations=False, load_evaluation_teams=True, load_training_teams=True)\n",
    "trial_data_4 = loadTrialData(trialname=\"trial_4\", computername=experiment_name, load_populations=False, load_evaluation_teams=True, load_training_teams=True)\n",
    "trial_data_5 = loadTrialData(trialname=\"trial_5\", computername=experiment_name, load_populations=False, load_evaluation_teams=True, load_training_teams=True)\n",
    "\n",
    "trial_data_6 = loadTrialData(trialname=\"trial_6\", computername=experiment_name, load_populations=False, load_evaluation_teams=True, load_training_teams=True)\n",
    "trial_data_7 = loadTrialData(trialname=\"trial_7\", computername=experiment_name, load_populations=False, load_evaluation_teams=True, load_training_teams=True)\n",
    "trial_data_8 = loadTrialData(trialname=\"trial_8\", computername=experiment_name, load_populations=False, load_evaluation_teams=True, load_training_teams=True)"
   ]
  },
  {
   "cell_type": "code",
   "execution_count": 3,
   "metadata": {},
   "outputs": [],
   "source": [
    "from lib.data_helpers import getEvalFitnesses\n",
    "\n",
    "team_fitness_0, agent_fitnesses_0 = getEvalFitnesses(trial_data_0)\n",
    "team_fitness_1, agent_fitnesses_1 = getEvalFitnesses(trial_data_1)\n",
    "team_fitness_2, agent_fitnesses_2 = getEvalFitnesses(trial_data_2)\n",
    "\n",
    "team_fitness_3, agent_fitnesses_3 = getEvalFitnesses(trial_data_3)\n",
    "team_fitness_4, agent_fitnesses_4 = getEvalFitnesses(trial_data_4)\n",
    "team_fitness_5, agent_fitnesses_5 = getEvalFitnesses(trial_data_5)\n",
    "\n",
    "team_fitness_6, agent_fitnesses_6 = getEvalFitnesses(trial_data_6)\n",
    "team_fitness_7, agent_fitnesses_7 = getEvalFitnesses(trial_data_7)\n",
    "team_fitness_8, agent_fitnesses_8 = getEvalFitnesses(trial_data_8)"
   ]
  },
  {
   "cell_type": "code",
   "execution_count": 4,
   "metadata": {},
   "outputs": [
    {
     "data": {
      "text/plain": [
       "[<matplotlib.lines.Line2D at 0x7f9f74c77640>]"
      ]
     },
     "execution_count": 4,
     "metadata": {},
     "output_type": "execute_result"
    }
   ],
   "source": [
    "import matplotlib.pyplot as plt\n",
    "%matplotlib qt\n",
    "\n",
    "config = loadConfigData(trialname=\"trial_0\", computername=\"experiment_8\")\n",
    "leader_colors = config[\"CCEA\"][\"config\"][\"BoidsEnv\"][\"config\"][\"Renderer\"][\"leader_colors\"]\n",
    "leader_colors = tuple(np.array(leader_colors)/255)\n",
    "\n",
    "plt.plot(team_fitness_0, color=\"royalblue\", linestyle=\"-\")\n",
    "plt.plot(team_fitness_1, color=\"navy\", linestyle=\"-\")\n",
    "plt.plot(team_fitness_2, color=\"blue\", linestyle=\"-\")\n",
    "\n",
    "plt.plot(team_fitness_3, color=\"darkorange\", linestyle=\"-\")\n",
    "plt.plot(team_fitness_4, color=\"navajowhite\", linestyle=\"-\")\n",
    "plt.plot(team_fitness_5, color=\"orange\", linestyle=\"-\")\n",
    "\n",
    "plt.plot(team_fitness_6, color=\"forestgreen\", linestyle=\"-\")\n",
    "plt.plot(team_fitness_7, color=\"limegreen\", linestyle=\"-\")\n",
    "plt.plot(team_fitness_8, color=\"darkgreen\", linestyle=\"-\")\n",
    "\n",
    "\n",
    "# print(agent_fitnesses.shape)\n",
    "\n",
    "# num_agents = agent_fitnesses.shape\n",
    "# print(num_agents)\n",
    "\n",
    "# for ind, agent_fitness in enumerate(agent_fitnesses):\n",
    "#     plt.plot(agent_fitness, color=tuple(leader_colors[ind%len(leader_colors)]))\n",
    "\n",
    "\n",
    "# plt.xlabel(\"Generation\")\n",
    "# plt.ylabel(\"Fitness Score\")\n",
    "# plt.ylim([0.0,1.01])\n",
    "# plt.title(\"Final Evaluation Teams\")\n",
    "# legend = [\"Team Performance\"]\n",
    "# # for i in range(len(agent_fitnesses)):\n",
    "# #     legend.append(\"Agent \"+str(i+1))\n",
    "# plt.legend(legend)\n",
    "# plt.show()\n"
   ]
  },
  {
   "cell_type": "code",
   "execution_count": null,
   "metadata": {},
   "outputs": [],
   "source": []
  },
  {
   "cell_type": "code",
   "execution_count": null,
   "metadata": {},
   "outputs": [],
   "source": []
  }
 ],
 "metadata": {
  "kernelspec": {
   "display_name": "leaders",
   "language": "python",
   "name": "python3"
  },
  "language_info": {
   "codemirror_mode": {
    "name": "ipython",
    "version": 3
   },
   "file_extension": ".py",
   "mimetype": "text/x-python",
   "name": "python",
   "nbconvert_exporter": "python",
   "pygments_lexer": "ipython3",
   "version": "3.10.12"
  },
  "orig_nbformat": 4
 },
 "nbformat": 4,
 "nbformat_minor": 2
}
